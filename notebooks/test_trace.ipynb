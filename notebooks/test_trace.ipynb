{
 "cells": [
  {
   "cell_type": "code",
   "execution_count": 1,
   "metadata": {},
   "outputs": [],
   "source": [
    "%load_ext autoreload\n",
    "%autoreload 2"
   ]
  },
  {
   "cell_type": "code",
   "execution_count": 2,
   "metadata": {},
   "outputs": [
    {
     "data": {
      "text/plain": [
       "('2.1.0+cu121', '4.34.0')"
      ]
     },
     "execution_count": 2,
     "metadata": {},
     "output_type": "execute_result"
    }
   ],
   "source": [
    "import sys\n",
    "sys.path.append('../')\n",
    "import torch\n",
    "import transformers\n",
    "import baukit\n",
    "\n",
    "torch.__version__, transformers.__version__"
   ]
  },
  {
   "cell_type": "code",
   "execution_count": 3,
   "metadata": {},
   "outputs": [],
   "source": [
    "def recursive_copy(x, clone=None, detach=None, retain_grad=None):\n",
    "    \"\"\"\n",
    "    Copies a reference to a tensor, or an object that contains tensors,\n",
    "    optionally detaching and cloning the tensor(s).  If retain_grad is\n",
    "    true, the original tensors are marked to have grads retained.\n",
    "    \"\"\"\n",
    "    if not clone and not detach and not retain_grad:\n",
    "        return x\n",
    "    if isinstance(x, torch.Tensor):\n",
    "        if retain_grad:\n",
    "            if not x.requires_grad:\n",
    "                x.requires_grad = True\n",
    "            x.retain_grad()\n",
    "        elif detach:\n",
    "            x = x.detach()\n",
    "        if clone:\n",
    "            x = x.clone()\n",
    "        return x\n",
    "    # Only dicts, lists, and tuples (and subclasses) can be copied.\n",
    "    if isinstance(x, dict):\n",
    "        return type(x)({k: recursive_copy(v) for k, v in x.items()})\n",
    "    elif isinstance(x, (list, tuple)):\n",
    "        return type(x)([recursive_copy(v) for v in x])\n",
    "    else:\n",
    "        assert False, f\"Unknown type {type(x)} cannot be broken into tensors.\""
   ]
  },
  {
   "cell_type": "code",
   "execution_count": 4,
   "metadata": {},
   "outputs": [
    {
     "data": {
      "text/plain": [
       "GPT2Config {\n",
       "  \"_name_or_path\": \"gpt2\",\n",
       "  \"activation_function\": \"gelu_new\",\n",
       "  \"architectures\": [\n",
       "    \"GPT2LMHeadModel\"\n",
       "  ],\n",
       "  \"attn_pdrop\": 0.1,\n",
       "  \"bos_token_id\": 50256,\n",
       "  \"embd_pdrop\": 0.1,\n",
       "  \"eos_token_id\": 50256,\n",
       "  \"initializer_range\": 0.02,\n",
       "  \"layer_norm_epsilon\": 1e-05,\n",
       "  \"model_type\": \"gpt2\",\n",
       "  \"n_ctx\": 1024,\n",
       "  \"n_embd\": 768,\n",
       "  \"n_head\": 12,\n",
       "  \"n_inner\": null,\n",
       "  \"n_layer\": 12,\n",
       "  \"n_positions\": 1024,\n",
       "  \"reorder_and_upcast_attn\": false,\n",
       "  \"resid_pdrop\": 0.1,\n",
       "  \"scale_attn_by_inverse_layer_idx\": false,\n",
       "  \"scale_attn_weights\": true,\n",
       "  \"summary_activation\": null,\n",
       "  \"summary_first_dropout\": 0.1,\n",
       "  \"summary_proj_to_labels\": true,\n",
       "  \"summary_type\": \"cls_index\",\n",
       "  \"summary_use_proj\": true,\n",
       "  \"task_specific_params\": {\n",
       "    \"text-generation\": {\n",
       "      \"do_sample\": true,\n",
       "      \"max_length\": 50\n",
       "    }\n",
       "  },\n",
       "  \"torch_dtype\": \"float16\",\n",
       "  \"transformers_version\": \"4.34.0\",\n",
       "  \"use_cache\": true,\n",
       "  \"vocab_size\": 50257\n",
       "}"
      ]
     },
     "execution_count": 4,
     "metadata": {},
     "output_type": "execute_result"
    }
   ],
   "source": [
    "# model_name = \"EleutherAI/gpt-j-6b\"\n",
    "model_name = \"gpt2\"\n",
    "# model_name = \"mistralai/Mistral-7B-v0.1\"\n",
    "\n",
    "tokenizer = transformers.AutoTokenizer.from_pretrained(model_name)\n",
    "model = transformers.AutoModelForCausalLM.from_pretrained(\n",
    "    model_name,\n",
    "    low_cpu_mem_usage=True,\n",
    "    torch_dtype = torch.float16\n",
    ").to(\"cuda\")\n",
    "tokenizer.pad_token = tokenizer.eos_token\n",
    "\n",
    "model.eval()\n",
    "model.config"
   ]
  },
  {
   "cell_type": "code",
   "execution_count": 5,
   "metadata": {},
   "outputs": [
    {
     "data": {
      "text/plain": [
       "GPT2LMHeadModel(\n",
       "  (transformer): GPT2Model(\n",
       "    (wte): Embedding(50257, 768)\n",
       "    (wpe): Embedding(1024, 768)\n",
       "    (drop): Dropout(p=0.1, inplace=False)\n",
       "    (h): ModuleList(\n",
       "      (0-11): 12 x GPT2Block(\n",
       "        (ln_1): LayerNorm((768,), eps=1e-05, elementwise_affine=True)\n",
       "        (attn): GPT2Attention(\n",
       "          (c_attn): Conv1D()\n",
       "          (c_proj): Conv1D()\n",
       "          (attn_dropout): Dropout(p=0.1, inplace=False)\n",
       "          (resid_dropout): Dropout(p=0.1, inplace=False)\n",
       "        )\n",
       "        (ln_2): LayerNorm((768,), eps=1e-05, elementwise_affine=True)\n",
       "        (mlp): GPT2MLP(\n",
       "          (c_fc): Conv1D()\n",
       "          (c_proj): Conv1D()\n",
       "          (act): NewGELUActivation()\n",
       "          (dropout): Dropout(p=0.1, inplace=False)\n",
       "        )\n",
       "      )\n",
       "    )\n",
       "    (ln_f): LayerNorm((768,), eps=1e-05, elementwise_affine=True)\n",
       "  )\n",
       "  (lm_head): Linear(in_features=768, out_features=50257, bias=False)\n",
       ")"
      ]
     },
     "execution_count": 5,
     "metadata": {},
     "output_type": "execute_result"
    }
   ],
   "source": [
    "model"
   ]
  },
  {
   "cell_type": "code",
   "execution_count": 6,
   "metadata": {},
   "outputs": [
    {
     "data": {
      "text/plain": [
       "(768, 12)"
      ]
     },
     "execution_count": 6,
     "metadata": {},
     "output_type": "execute_result"
    }
   ],
   "source": [
    "if \"gpt\" in model.config._name_or_path:\n",
    "    layer_name_format = \"transformer.h.{}\"\n",
    "elif \"mistral\" in model.config._name_or_path:\n",
    "    layer_name_format = \"model.layers.{}\"\n",
    "else:\n",
    "    raise AssertionError(\"Untested model\")\n",
    "\n",
    "n_embd = (\n",
    "    model.config.n_embd \n",
    "    if \"n_embd\" in model.config.to_dict() \n",
    "    else model.config.hidden_size \n",
    ")\n",
    "\n",
    "n_layer = (\n",
    "    model.config.n_layer \n",
    "    if \"n_layer\" in model.config.to_dict() \n",
    "    else model.config.num_hidden_layers \n",
    ")\n",
    "\n",
    "n_embd, n_layer"
   ]
  },
  {
   "cell_type": "code",
   "execution_count": 7,
   "metadata": {},
   "outputs": [],
   "source": [
    "prompt = \"A quick brown fox\"\n",
    "tokenized = tokenizer(prompt, return_tensors=\"pt\", padding=\"longest\").to(model.device)\n",
    "\n",
    "original_output = model(**tokenized)"
   ]
  },
  {
   "cell_type": "code",
   "execution_count": 8,
   "metadata": {},
   "outputs": [
    {
     "data": {
      "text/plain": [
       "True"
      ]
     },
     "execution_count": 8,
     "metadata": {},
     "output_type": "execute_result"
    }
   ],
   "source": [
    "def untuple(x):\n",
    "    if isinstance(x, tuple):\n",
    "        return x[0]\n",
    "    return x\n",
    "\n",
    "def intervention(\n",
    "        intervention_layer,\n",
    "        intervene_at, \n",
    "        replace_out_with\n",
    "    ):\n",
    "    def edit_output(layer, output):\n",
    "        if layer != intervention_layer:\n",
    "            return output\n",
    "        untuple(output)[:, intervene_at] = replace_out_with\n",
    "        return output\n",
    "    return edit_output\n",
    "\n",
    "layer = layer_name_format.format(8)\n",
    "intervene_at = -1\n",
    "\n",
    "with torch.no_grad():\n",
    "    with baukit.Trace(\n",
    "        model,\n",
    "        layer = layer_name_format.format(8),\n",
    "        retain_input=True, \n",
    "    ) as trace:\n",
    "        output_without_intervention = model(**tokenized)\n",
    "replace_out_with = untuple(trace.output)[:, intervene_at].clone().detach()\n",
    "# replace_out_with = torch.randn(n_embd).to(model.dtype).to(model.device)\n",
    "\n",
    "with torch.no_grad():\n",
    "    with baukit.Trace(\n",
    "        model,\n",
    "        layer = layer_name_format.format(8),\n",
    "        retain_input=True, \n",
    "        edit_output=intervention(\n",
    "            intervention_layer=layer,\n",
    "            intervene_at=intervene_at,\n",
    "            replace_out_with=replace_out_with\n",
    "        )\n",
    "    ) as trace:\n",
    "        output = model(**tokenized)\n",
    "\n",
    "\n",
    "# check output after edit (basically the same)\n",
    "torch.allclose(\n",
    "    original_output.logits,\n",
    "    output.logits\n",
    ")"
   ]
  },
  {
   "cell_type": "code",
   "execution_count": 9,
   "metadata": {},
   "outputs": [
    {
     "data": {
      "text/plain": [
       "True"
      ]
     },
     "execution_count": 9,
     "metadata": {},
     "output_type": "execute_result"
    }
   ],
   "source": [
    "# intervention successful?\n",
    "torch.allclose(\n",
    "    untuple(trace.output)[:, intervene_at].squeeze(),\n",
    "    replace_out_with,\n",
    ")"
   ]
  },
  {
   "cell_type": "code",
   "execution_count": 10,
   "metadata": {},
   "outputs": [
    {
     "data": {
      "text/plain": [
       "torch.Size([1, 4, 768])"
      ]
     },
     "execution_count": 10,
     "metadata": {},
     "output_type": "execute_result"
    }
   ],
   "source": [
    "if \"gpt-j\" in model.config._name_or_path:\n",
    "    trace_inp = trace.input_kw[\"hidden_states\"]\n",
    "else:\n",
    "    trace_inp = trace.input\n",
    "trace_inp.shape"
   ]
  },
  {
   "cell_type": "code",
   "execution_count": 11,
   "metadata": {},
   "outputs": [
    {
     "data": {
      "text/plain": [
       "torch.Size([1, 4, 768])"
      ]
     },
     "execution_count": 11,
     "metadata": {},
     "output_type": "execute_result"
    }
   ],
   "source": [
    "untuple(trace.output).shape"
   ]
  },
  {
   "cell_type": "markdown",
   "metadata": {},
   "source": [
    "## Testing TraceDict"
   ]
  },
  {
   "cell_type": "code",
   "execution_count": 12,
   "metadata": {},
   "outputs": [],
   "source": [
    "with torch.no_grad():\n",
    "    with baukit.TraceDict(\n",
    "        model,\n",
    "        layers = [layer_name_format.format(i) for i in range(n_layer)],\n",
    "        retain_input=True, \n",
    "        edit_output=intervention(\n",
    "            intervention_layer=layer,\n",
    "            intervene_at=intervene_at,\n",
    "            replace_out_with=replace_out_with\n",
    "        )\n",
    "    ) as traces:\n",
    "        output = model(**tokenized)"
   ]
  },
  {
   "cell_type": "code",
   "execution_count": 13,
   "metadata": {},
   "outputs": [
    {
     "data": {
      "text/plain": [
       "True"
      ]
     },
     "execution_count": 13,
     "metadata": {},
     "output_type": "execute_result"
    }
   ],
   "source": [
    "# trace dict input ok?\n",
    "\n",
    "if \"gpt-j\" in model.config._name_or_path:\n",
    "    trace_dict_inp = traces[layer].input_kw[\"hidden_states\"]\n",
    "else:\n",
    "    trace_dict_inp = traces[layer].input\n",
    "\n",
    "torch.allclose(\n",
    "    trace_inp,\n",
    "    trace_dict_inp\n",
    ")"
   ]
  },
  {
   "cell_type": "code",
   "execution_count": 14,
   "metadata": {},
   "outputs": [
    {
     "data": {
      "text/plain": [
       "True"
      ]
     },
     "execution_count": 14,
     "metadata": {},
     "output_type": "execute_result"
    }
   ],
   "source": [
    "# trace dict output ok?\n",
    "torch.allclose(\n",
    "    untuple(trace.output),\n",
    "    untuple(traces[layer].output)\n",
    ")"
   ]
  },
  {
   "cell_type": "code",
   "execution_count": 15,
   "metadata": {},
   "outputs": [
    {
     "data": {
      "text/plain": [
       "True"
      ]
     },
     "execution_count": 15,
     "metadata": {},
     "output_type": "execute_result"
    }
   ],
   "source": [
    "# intervention successful?\n",
    "torch.allclose(\n",
    "    untuple(traces[layer].output)[:, intervene_at].squeeze(),\n",
    "    replace_out_with,\n",
    ")"
   ]
  },
  {
   "cell_type": "markdown",
   "metadata": {},
   "source": [
    "## Testing `stopForward()`"
   ]
  },
  {
   "cell_type": "code",
   "execution_count": 29,
   "metadata": {},
   "outputs": [],
   "source": [
    "with torch.no_grad():\n",
    "    with baukit.Trace(\n",
    "        model,\n",
    "        layer = layer_name_format.format(8),\n",
    "        retain_input=True, \n",
    "        stop=True\n",
    "    ) as trace:\n",
    "        model(**tokenized)"
   ]
  },
  {
   "cell_type": "code",
   "execution_count": 30,
   "metadata": {},
   "outputs": [
    {
     "data": {
      "text/plain": [
       "(tensor([[[-0.9663, -1.9414,  0.8794,  ..., -0.9805, -0.7729,  0.2275],\n",
       "          [ 6.2500, -0.9541, -7.9297,  ..., -2.5938,  1.1143, -1.2744],\n",
       "          [ 5.5352,  3.2715, -1.4131,  ...,  1.6621,  0.5195, -2.6074],\n",
       "          [ 0.8164,  3.0156, -2.4590,  ..., -0.2100, -2.4102, -0.6504]]],\n",
       "        device='cuda:0', dtype=torch.float16),\n",
       " (tensor([[[[-0.0238, -2.3457,  0.1718,  ..., -0.2378, -0.1830,  0.0659],\n",
       "            [-0.5811,  4.2266,  0.6685,  ...,  0.0909,  0.5693,  1.0293],\n",
       "            [-0.0599,  5.0430,  0.2365,  ..., -0.3806, -1.8955,  0.6025],\n",
       "            [-0.8174,  5.1133, -1.4238,  ..., -0.2462, -1.1680,  0.9092]],\n",
       "  \n",
       "           [[-0.8120,  0.2219,  0.4714,  ..., -0.5205,  1.0703,  1.1289],\n",
       "            [ 0.4053,  0.8271,  0.5723,  ..., -0.8081,  1.3564,  0.0526],\n",
       "            [ 1.0059,  1.0059,  1.0947,  ...,  1.3086,  1.5850,  0.6411],\n",
       "            [ 0.8579,  1.4004,  0.2930,  ...,  1.6436,  2.5059, -0.1443]],\n",
       "  \n",
       "           [[-0.8535,  0.4805,  0.0164,  ...,  0.4956, -0.2296,  1.1621],\n",
       "            [ 0.3823, -1.2119, -0.4653,  ...,  0.2069,  0.6299, -1.3848],\n",
       "            [ 1.0303, -0.2072,  0.7388,  ..., -0.0387,  1.0635, -0.2502],\n",
       "            [ 1.1084,  0.5317,  0.9004,  ...,  1.0488,  0.7700, -0.3423]],\n",
       "  \n",
       "           ...,\n",
       "  \n",
       "           [[-0.2979, -0.1261,  0.1472,  ...,  0.1836,  1.7422, -2.8672],\n",
       "            [-0.0969, -0.8394, -0.2384,  ..., -1.2471, -4.5977,  5.7891],\n",
       "            [-0.1532, -0.4951,  0.2634,  ..., -0.9180, -4.6328,  5.1953],\n",
       "            [-0.5601, -0.6143,  0.1667,  ..., -0.7666, -4.0586,  4.5820]],\n",
       "  \n",
       "           [[ 0.1865,  0.3650,  0.2164,  ..., -0.2183,  0.0320, -0.1406],\n",
       "            [-0.8232, -1.6895,  0.4946,  ...,  1.8486,  1.1094, -0.9663],\n",
       "            [-0.8057, -2.2480, -0.6934,  ..., -0.7290,  1.1533,  0.7061],\n",
       "            [-1.3662, -1.3545,  0.3774,  ..., -0.4956, -0.0624,  0.3855]],\n",
       "  \n",
       "           [[ 0.3755,  0.1113,  0.6206,  ...,  0.5137,  0.5771, -0.3325],\n",
       "            [-0.2463, -1.2744, -0.7881,  ..., -1.6748, -3.2949,  0.8506],\n",
       "            [ 0.0651,  0.5635, -0.4292,  ..., -1.2354, -3.0156,  1.1729],\n",
       "            [-0.2416,  0.1427,  0.0128,  ..., -0.5386, -3.3965,  0.0665]]]],\n",
       "         device='cuda:0', dtype=torch.float16),\n",
       "  tensor([[[[ 5.6732e-02, -1.0170e-02, -2.8000e-02,  ...,  1.1896e-01,\n",
       "             -7.2632e-02, -3.9520e-02],\n",
       "            [-9.7510e-01,  1.3457e+00, -5.6396e-01,  ...,  1.2422e+00,\n",
       "              6.2793e-01,  6.2561e-02],\n",
       "            [-5.1422e-02,  2.5806e-01,  3.6816e-01,  ...,  1.0527e+00,\n",
       "              5.8154e-01,  2.7808e-01],\n",
       "            [-7.0068e-02,  5.7275e-01,  8.4229e-01,  ..., -7.7100e-01,\n",
       "              5.7129e-01,  2.1055e+00]],\n",
       "  \n",
       "           [[ 5.1165e-04,  4.3610e-02,  6.0394e-02,  ...,  5.8899e-03,\n",
       "             -3.4180e-03,  1.1330e-02],\n",
       "            [-1.1289e+00, -1.1816e+00,  3.2568e-01,  ...,  1.0449e+00,\n",
       "             -7.6416e-01,  8.3398e-01],\n",
       "            [-9.6338e-01,  1.3750e+00, -7.2217e-01,  ...,  1.0664e+00,\n",
       "              8.6719e-01,  4.2163e-01],\n",
       "            [-1.9116e-01,  1.3545e+00, -7.8516e-01,  ...,  1.1816e+00,\n",
       "             -6.2891e-01,  5.9961e-01]],\n",
       "  \n",
       "           [[ 4.8035e-02, -4.3243e-02,  6.0516e-02,  ...,  4.8035e-02,\n",
       "             -7.0435e-02, -6.1707e-02],\n",
       "            [-7.2656e-01, -6.0205e-01,  8.3008e-01,  ..., -1.0529e-01,\n",
       "             -5.5957e-01, -2.9395e-01],\n",
       "            [-5.2930e-01,  2.4402e-01,  8.0872e-02,  ...,  9.1650e-01,\n",
       "              6.0889e-01,  3.7939e-01],\n",
       "            [-7.7441e-01,  3.3032e-01,  5.1392e-02,  ..., -6.6797e-01,\n",
       "              5.9473e-01, -9.9487e-02]],\n",
       "  \n",
       "           ...,\n",
       "  \n",
       "           [[-8.6365e-02, -4.3762e-02,  4.2389e-02,  ..., -9.0210e-02,\n",
       "              2.1118e-02,  1.8951e-02],\n",
       "            [ 4.9829e-01,  7.5293e-01, -8.9453e-01,  ..., -7.6318e-01,\n",
       "              1.7773e+00,  8.8428e-01],\n",
       "            [ 1.7588e+00, -8.6853e-02, -1.0518e+00,  ..., -1.1201e+00,\n",
       "             -2.5055e-02, -1.2568e+00],\n",
       "            [ 1.9521e+00,  1.3098e-01, -4.2749e-01,  ...,  4.1333e-01,\n",
       "             -4.3164e-01, -1.2754e+00]],\n",
       "  \n",
       "           [[ 1.5247e-01, -6.6895e-02,  1.2634e-01,  ...,  6.6711e-02,\n",
       "              2.2247e-02, -1.0870e-01],\n",
       "            [-1.2754e+00, -1.4541e+00, -7.9004e-01,  ..., -6.6650e-01,\n",
       "             -4.6753e-01,  1.2158e+00],\n",
       "            [ 6.9434e-01,  1.2197e+00,  1.4355e+00,  ...,  4.0137e-01,\n",
       "              2.2961e-01,  8.2227e-01],\n",
       "            [ 6.9287e-01,  4.3652e-01,  4.8242e-01,  ..., -1.4082e+00,\n",
       "             -1.4392e-01,  2.0801e-01]],\n",
       "  \n",
       "           [[ 2.1729e-01, -4.3701e-02, -6.2317e-02,  ...,  1.9379e-02,\n",
       "              3.4332e-02,  2.5009e-02],\n",
       "            [ 5.7568e-01, -8.2080e-01, -4.6997e-02,  ..., -2.6611e-01,\n",
       "             -1.5068e+00, -6.3705e-03],\n",
       "            [-3.1982e-02, -5.2393e-01,  7.4170e-01,  ..., -1.0022e-01,\n",
       "              7.7148e-02, -1.6846e+00],\n",
       "            [-3.7632e-03,  9.0918e-01,  1.7764e+00,  ..., -8.7158e-01,\n",
       "              5.1562e-01, -1.4736e+00]]]], device='cuda:0', dtype=torch.float16)))"
      ]
     },
     "execution_count": 30,
     "metadata": {},
     "output_type": "execute_result"
    }
   ],
   "source": [
    "trace.output"
   ]
  },
  {
   "cell_type": "code",
   "execution_count": null,
   "metadata": {},
   "outputs": [],
   "source": []
  }
 ],
 "metadata": {
  "kernelspec": {
   "display_name": "Python 3",
   "language": "python",
   "name": "python3"
  },
  "language_info": {
   "codemirror_mode": {
    "name": "ipython",
    "version": 3
   },
   "file_extension": ".py",
   "mimetype": "text/x-python",
   "name": "python",
   "nbconvert_exporter": "python",
   "pygments_lexer": "ipython3",
   "version": "3.9.7"
  }
 },
 "nbformat": 4,
 "nbformat_minor": 2
}
