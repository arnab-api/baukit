{
 "cells": [
  {
   "cell_type": "code",
   "execution_count": 1,
   "metadata": {},
   "outputs": [],
   "source": [
    "%load_ext autoreload\n",
    "%autoreload 2"
   ]
  },
  {
   "cell_type": "code",
   "execution_count": 2,
   "metadata": {},
   "outputs": [
    {
     "data": {
      "text/plain": [
       "('2.1.0+cu121', '4.34.0')"
      ]
     },
     "execution_count": 2,
     "metadata": {},
     "output_type": "execute_result"
    }
   ],
   "source": [
    "import sys\n",
    "sys.path.append('../')\n",
    "import torch\n",
    "import transformers\n",
    "import baukit\n",
    "\n",
    "torch.__version__, transformers.__version__"
   ]
  },
  {
   "cell_type": "code",
   "execution_count": 3,
   "metadata": {},
   "outputs": [],
   "source": [
    "def recursive_copy(x, clone=None, detach=None, retain_grad=None):\n",
    "    \"\"\"\n",
    "    Copies a reference to a tensor, or an object that contains tensors,\n",
    "    optionally detaching and cloning the tensor(s).  If retain_grad is\n",
    "    true, the original tensors are marked to have grads retained.\n",
    "    \"\"\"\n",
    "    if not clone and not detach and not retain_grad:\n",
    "        return x\n",
    "    if isinstance(x, torch.Tensor):\n",
    "        if retain_grad:\n",
    "            if not x.requires_grad:\n",
    "                x.requires_grad = True\n",
    "            x.retain_grad()\n",
    "        elif detach:\n",
    "            x = x.detach()\n",
    "        if clone:\n",
    "            x = x.clone()\n",
    "        return x\n",
    "    # Only dicts, lists, and tuples (and subclasses) can be copied.\n",
    "    if isinstance(x, dict):\n",
    "        return type(x)({k: recursive_copy(v) for k, v in x.items()})\n",
    "    elif isinstance(x, (list, tuple)):\n",
    "        return type(x)([recursive_copy(v) for v in x])\n",
    "    else:\n",
    "        assert False, f\"Unknown type {type(x)} cannot be broken into tensors.\""
   ]
  },
  {
   "cell_type": "code",
   "execution_count": 4,
   "metadata": {},
   "outputs": [
    {
     "name": "stderr",
     "output_type": "stream",
     "text": [
      "Special tokens have been added in the vocabulary, make sure the associated word embeddings are fine-tuned or trained.\n"
     ]
    },
    {
     "data": {
      "application/vnd.jupyter.widget-view+json": {
       "model_id": "bd798a482b7a4b259b532962cdcfefbd",
       "version_major": 2,
       "version_minor": 0
      },
      "text/plain": [
       "Loading checkpoint shards:   0%|          | 0/2 [00:00<?, ?it/s]"
      ]
     },
     "metadata": {},
     "output_type": "display_data"
    },
    {
     "data": {
      "text/plain": [
       "MistralConfig {\n",
       "  \"_name_or_path\": \"/home/local_arnab/Codes/Weights/mistral-7B\",\n",
       "  \"architectures\": [\n",
       "    \"MistralForCausalLM\"\n",
       "  ],\n",
       "  \"bos_token_id\": 1,\n",
       "  \"eos_token_id\": 2,\n",
       "  \"hidden_act\": \"silu\",\n",
       "  \"hidden_size\": 4096,\n",
       "  \"initializer_range\": 0.02,\n",
       "  \"intermediate_size\": 14336,\n",
       "  \"max_position_embeddings\": 32768,\n",
       "  \"model_type\": \"mistral\",\n",
       "  \"num_attention_heads\": 32,\n",
       "  \"num_hidden_layers\": 32,\n",
       "  \"num_key_value_heads\": 8,\n",
       "  \"rms_norm_eps\": 1e-05,\n",
       "  \"rope_theta\": 10000.0,\n",
       "  \"sliding_window\": 4096,\n",
       "  \"tie_word_embeddings\": false,\n",
       "  \"torch_dtype\": \"float16\",\n",
       "  \"transformers_version\": \"4.34.0\",\n",
       "  \"use_cache\": true,\n",
       "  \"vocab_size\": 32000\n",
       "}"
      ]
     },
     "execution_count": 4,
     "metadata": {},
     "output_type": "execute_result"
    }
   ],
   "source": [
    "# model_name = \"EleutherAI/gpt-j-6b\"\n",
    "# model_name = \"gpt2\"\n",
    "# model_name = \"mistralai/Mistral-7B-v0.1\"\n",
    "model_name = \"/home/local_arnab/Codes/Weights/mistral-7B\"\n",
    "\n",
    "tokenizer = transformers.AutoTokenizer.from_pretrained(model_name)\n",
    "model = transformers.AutoModelForCausalLM.from_pretrained(\n",
    "    model_name,\n",
    "    low_cpu_mem_usage=True,\n",
    "    torch_dtype = torch.float16\n",
    ").to(\"cuda\")\n",
    "tokenizer.pad_token = tokenizer.eos_token\n",
    "\n",
    "model.eval()\n",
    "model.config"
   ]
  },
  {
   "cell_type": "code",
   "execution_count": 5,
   "metadata": {},
   "outputs": [
    {
     "data": {
      "text/plain": [
       "MistralForCausalLM(\n",
       "  (model): MistralModel(\n",
       "    (embed_tokens): Embedding(32000, 4096)\n",
       "    (layers): ModuleList(\n",
       "      (0-31): 32 x MistralDecoderLayer(\n",
       "        (self_attn): MistralAttention(\n",
       "          (q_proj): Linear(in_features=4096, out_features=4096, bias=False)\n",
       "          (k_proj): Linear(in_features=4096, out_features=1024, bias=False)\n",
       "          (v_proj): Linear(in_features=4096, out_features=1024, bias=False)\n",
       "          (o_proj): Linear(in_features=4096, out_features=4096, bias=False)\n",
       "          (rotary_emb): MistralRotaryEmbedding()\n",
       "        )\n",
       "        (mlp): MistralMLP(\n",
       "          (gate_proj): Linear(in_features=4096, out_features=14336, bias=False)\n",
       "          (up_proj): Linear(in_features=4096, out_features=14336, bias=False)\n",
       "          (down_proj): Linear(in_features=14336, out_features=4096, bias=False)\n",
       "          (act_fn): SiLUActivation()\n",
       "        )\n",
       "        (input_layernorm): MistralRMSNorm()\n",
       "        (post_attention_layernorm): MistralRMSNorm()\n",
       "      )\n",
       "    )\n",
       "    (norm): MistralRMSNorm()\n",
       "  )\n",
       "  (lm_head): Linear(in_features=4096, out_features=32000, bias=False)\n",
       ")"
      ]
     },
     "execution_count": 5,
     "metadata": {},
     "output_type": "execute_result"
    }
   ],
   "source": [
    "model"
   ]
  },
  {
   "cell_type": "code",
   "execution_count": 6,
   "metadata": {},
   "outputs": [
    {
     "data": {
      "text/plain": [
       "(4096, 32)"
      ]
     },
     "execution_count": 6,
     "metadata": {},
     "output_type": "execute_result"
    }
   ],
   "source": [
    "if \"gpt\" in model.config._name_or_path:\n",
    "    layer_name_format = \"transformer.h.{}\"\n",
    "elif \"mistral\" in model.config._name_or_path:\n",
    "    layer_name_format = \"model.layers.{}\"\n",
    "else:\n",
    "    raise AssertionError(\"Untested model\")\n",
    "\n",
    "n_embd = (\n",
    "    model.config.n_embd \n",
    "    if \"n_embd\" in model.config.to_dict() \n",
    "    else model.config.hidden_size \n",
    ")\n",
    "\n",
    "n_layer = (\n",
    "    model.config.n_layer \n",
    "    if \"n_layer\" in model.config.to_dict() \n",
    "    else model.config.num_hidden_layers \n",
    ")\n",
    "\n",
    "n_embd, n_layer"
   ]
  },
  {
   "cell_type": "code",
   "execution_count": 7,
   "metadata": {},
   "outputs": [],
   "source": [
    "prompt = \"A quick brown fox\"\n",
    "tokenized = tokenizer(prompt, return_tensors=\"pt\", padding=\"longest\").to(model.device)\n",
    "\n",
    "original_output = model(**tokenized)"
   ]
  },
  {
   "cell_type": "code",
   "execution_count": 8,
   "metadata": {},
   "outputs": [
    {
     "data": {
      "text/plain": [
       "True"
      ]
     },
     "execution_count": 8,
     "metadata": {},
     "output_type": "execute_result"
    }
   ],
   "source": [
    "def untuple(x):\n",
    "    if isinstance(x, tuple):\n",
    "        return x[0]\n",
    "    return x\n",
    "\n",
    "def intervention(\n",
    "        intervention_layer,\n",
    "        intervene_at, \n",
    "        replace_out_with\n",
    "    ):\n",
    "    def edit_output(layer, output):\n",
    "        if layer != intervention_layer:\n",
    "            return output\n",
    "        untuple(output)[:, intervene_at] = replace_out_with\n",
    "        return output\n",
    "    return edit_output\n",
    "\n",
    "layer = layer_name_format.format(8)\n",
    "intervene_at = -1\n",
    "\n",
    "with torch.no_grad():\n",
    "    with baukit.Trace(\n",
    "        model,\n",
    "        layer = layer_name_format.format(8),\n",
    "        retain_input=True, \n",
    "    ) as trace:\n",
    "        output_without_intervention = model(**tokenized)\n",
    "replace_out_with = untuple(trace.output)[:, intervene_at].clone().detach()\n",
    "# replace_out_with = torch.randn(n_embd).to(model.dtype).to(model.device)\n",
    "\n",
    "with torch.no_grad():\n",
    "    with baukit.Trace(\n",
    "        model,\n",
    "        layer = layer_name_format.format(8),\n",
    "        retain_input=True, \n",
    "        edit_output=intervention(\n",
    "            intervention_layer=layer,\n",
    "            intervene_at=intervene_at,\n",
    "            replace_out_with=replace_out_with\n",
    "        )\n",
    "    ) as trace:\n",
    "        output = model(**tokenized)\n",
    "\n",
    "\n",
    "# check output after edit (basically the same)\n",
    "torch.allclose(\n",
    "    original_output.logits,\n",
    "    output.logits\n",
    ")"
   ]
  },
  {
   "cell_type": "code",
   "execution_count": 9,
   "metadata": {},
   "outputs": [
    {
     "data": {
      "text/plain": [
       "True"
      ]
     },
     "execution_count": 9,
     "metadata": {},
     "output_type": "execute_result"
    }
   ],
   "source": [
    "# intervention successful?\n",
    "torch.allclose(\n",
    "    untuple(trace.output)[:, intervene_at].squeeze(),\n",
    "    replace_out_with,\n",
    ")"
   ]
  },
  {
   "cell_type": "code",
   "execution_count": 10,
   "metadata": {},
   "outputs": [
    {
     "data": {
      "text/plain": [
       "torch.Size([1, 6, 4096])"
      ]
     },
     "execution_count": 10,
     "metadata": {},
     "output_type": "execute_result"
    }
   ],
   "source": [
    "if \"gpt-j\" in model.config._name_or_path:\n",
    "    trace_inp = trace.input_kw[\"hidden_states\"]\n",
    "else:\n",
    "    trace_inp = trace.input\n",
    "trace_inp.shape"
   ]
  },
  {
   "cell_type": "code",
   "execution_count": 11,
   "metadata": {},
   "outputs": [
    {
     "data": {
      "text/plain": [
       "torch.Size([1, 6, 4096])"
      ]
     },
     "execution_count": 11,
     "metadata": {},
     "output_type": "execute_result"
    }
   ],
   "source": [
    "untuple(trace.output).shape"
   ]
  },
  {
   "cell_type": "markdown",
   "metadata": {},
   "source": [
    "## Testing TraceDict"
   ]
  },
  {
   "cell_type": "code",
   "execution_count": 12,
   "metadata": {},
   "outputs": [],
   "source": [
    "with torch.no_grad():\n",
    "    with baukit.TraceDict(\n",
    "        model,\n",
    "        layers = [layer_name_format.format(i) for i in range(n_layer)],\n",
    "        retain_input=True, \n",
    "        edit_output=intervention(\n",
    "            intervention_layer=layer,\n",
    "            intervene_at=intervene_at,\n",
    "            replace_out_with=replace_out_with\n",
    "        )\n",
    "    ) as traces:\n",
    "        output = model(**tokenized)"
   ]
  },
  {
   "cell_type": "code",
   "execution_count": 13,
   "metadata": {},
   "outputs": [
    {
     "data": {
      "text/plain": [
       "True"
      ]
     },
     "execution_count": 13,
     "metadata": {},
     "output_type": "execute_result"
    }
   ],
   "source": [
    "# trace dict input ok?\n",
    "\n",
    "if \"gpt-j\" in model.config._name_or_path:\n",
    "    trace_dict_inp = traces[layer].input_kw[\"hidden_states\"]\n",
    "else:\n",
    "    trace_dict_inp = traces[layer].input\n",
    "\n",
    "torch.allclose(\n",
    "    trace_inp,\n",
    "    trace_dict_inp\n",
    ")"
   ]
  },
  {
   "cell_type": "code",
   "execution_count": 14,
   "metadata": {},
   "outputs": [
    {
     "data": {
      "text/plain": [
       "True"
      ]
     },
     "execution_count": 14,
     "metadata": {},
     "output_type": "execute_result"
    }
   ],
   "source": [
    "# trace dict output ok?\n",
    "torch.allclose(\n",
    "    untuple(trace.output),\n",
    "    untuple(traces[layer].output)\n",
    ")"
   ]
  },
  {
   "cell_type": "code",
   "execution_count": 15,
   "metadata": {},
   "outputs": [
    {
     "data": {
      "text/plain": [
       "True"
      ]
     },
     "execution_count": 15,
     "metadata": {},
     "output_type": "execute_result"
    }
   ],
   "source": [
    "# intervention successful?\n",
    "torch.allclose(\n",
    "    untuple(traces[layer].output)[:, intervene_at].squeeze(),\n",
    "    replace_out_with,\n",
    ")"
   ]
  },
  {
   "cell_type": "code",
   "execution_count": null,
   "metadata": {},
   "outputs": [],
   "source": []
  }
 ],
 "metadata": {
  "kernelspec": {
   "display_name": "Python 3",
   "language": "python",
   "name": "python3"
  },
  "language_info": {
   "codemirror_mode": {
    "name": "ipython",
    "version": 3
   },
   "file_extension": ".py",
   "mimetype": "text/x-python",
   "name": "python",
   "nbconvert_exporter": "python",
   "pygments_lexer": "ipython3",
   "version": "3.9.7"
  }
 },
 "nbformat": 4,
 "nbformat_minor": 2
}
